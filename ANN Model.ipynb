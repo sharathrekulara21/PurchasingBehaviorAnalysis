{
 "cells": [
  {
   "cell_type": "markdown",
   "metadata": {},
   "source": [
    "## Modeling"
   ]
  },
  {
   "cell_type": "code",
   "execution_count": 2,
   "metadata": {},
   "outputs": [],
   "source": [
    "import numpy as np\n",
    "import pandas as pd\n",
    "import matplotlib.pyplot as plt\n",
    "import seaborn as sns\n",
    "import gc\n",
    "pd.options.mode.chained_assignment = None\n",
    "\n",
    "root = './Datasets/'\n",
    "\n",
    "from sklearn.model_selection import train_test_split, GridSearchCV, cross_val_score\n",
    "from sklearn.metrics import confusion_matrix, accuracy_score, classification_report\n",
    "from sklearn.metrics import roc_auc_score, roc_curve, precision_score, recall_score, f1_score\n",
    "from imblearn.over_sampling import SMOTE"
   ]
  },
  {
   "cell_type": "code",
   "execution_count": 3,
   "metadata": {},
   "outputs": [
    {
     "data": {
      "text/html": [
       "<div>\n",
       "<style scoped>\n",
       "    .dataframe tbody tr th:only-of-type {\n",
       "        vertical-align: middle;\n",
       "    }\n",
       "\n",
       "    .dataframe tbody tr th {\n",
       "        vertical-align: top;\n",
       "    }\n",
       "\n",
       "    .dataframe thead th {\n",
       "        text-align: right;\n",
       "    }\n",
       "</style>\n",
       "<table border=\"1\" class=\"dataframe\">\n",
       "  <thead>\n",
       "    <tr style=\"text-align: right;\">\n",
       "      <th></th>\n",
       "      <th>user_id</th>\n",
       "      <th>product_id</th>\n",
       "      <th>total_product_orders_by_user</th>\n",
       "      <th>total_product_reorders_by_user</th>\n",
       "      <th>user_product_reorder_percentage</th>\n",
       "      <th>avg_add_to_cart_by_user</th>\n",
       "      <th>avg_days_since_last_bought</th>\n",
       "      <th>last_ordered_in</th>\n",
       "      <th>is_reorder_3_x</th>\n",
       "      <th>is_reorder_2_x</th>\n",
       "      <th>...</th>\n",
       "      <th>reorder_proportion_by_user</th>\n",
       "      <th>department_unique_users_y</th>\n",
       "      <th>average_order_size</th>\n",
       "      <th>reorder_in_order</th>\n",
       "      <th>orders_3</th>\n",
       "      <th>orders_2</th>\n",
       "      <th>orders_1</th>\n",
       "      <th>reorder_3</th>\n",
       "      <th>reorder_2</th>\n",
       "      <th>reorder_1</th>\n",
       "    </tr>\n",
       "  </thead>\n",
       "  <tbody>\n",
       "    <tr>\n",
       "      <th>0</th>\n",
       "      <td>1</td>\n",
       "      <td>196</td>\n",
       "      <td>10.0</td>\n",
       "      <td>9.0</td>\n",
       "      <td>0.900000</td>\n",
       "      <td>1.400000</td>\n",
       "      <td>17.600000</td>\n",
       "      <td>10.0</td>\n",
       "      <td>1.0</td>\n",
       "      <td>1.0</td>\n",
       "      <td>...</td>\n",
       "      <td>0.694915</td>\n",
       "      <td>1</td>\n",
       "      <td>5.9</td>\n",
       "      <td>0.705833</td>\n",
       "      <td>6.0</td>\n",
       "      <td>6.0</td>\n",
       "      <td>9.0</td>\n",
       "      <td>0.666667</td>\n",
       "      <td>1.0</td>\n",
       "      <td>0.666667</td>\n",
       "    </tr>\n",
       "    <tr>\n",
       "      <th>1</th>\n",
       "      <td>1</td>\n",
       "      <td>10258</td>\n",
       "      <td>9.0</td>\n",
       "      <td>8.0</td>\n",
       "      <td>0.888889</td>\n",
       "      <td>3.333333</td>\n",
       "      <td>19.555555</td>\n",
       "      <td>10.0</td>\n",
       "      <td>1.0</td>\n",
       "      <td>1.0</td>\n",
       "      <td>...</td>\n",
       "      <td>0.694915</td>\n",
       "      <td>1</td>\n",
       "      <td>5.9</td>\n",
       "      <td>0.705833</td>\n",
       "      <td>6.0</td>\n",
       "      <td>6.0</td>\n",
       "      <td>9.0</td>\n",
       "      <td>0.666667</td>\n",
       "      <td>1.0</td>\n",
       "      <td>0.666667</td>\n",
       "    </tr>\n",
       "    <tr>\n",
       "      <th>2</th>\n",
       "      <td>1</td>\n",
       "      <td>10326</td>\n",
       "      <td>1.0</td>\n",
       "      <td>0.0</td>\n",
       "      <td>0.000000</td>\n",
       "      <td>5.000000</td>\n",
       "      <td>28.000000</td>\n",
       "      <td>5.0</td>\n",
       "      <td>0.0</td>\n",
       "      <td>0.0</td>\n",
       "      <td>...</td>\n",
       "      <td>0.694915</td>\n",
       "      <td>1</td>\n",
       "      <td>5.9</td>\n",
       "      <td>0.705833</td>\n",
       "      <td>6.0</td>\n",
       "      <td>6.0</td>\n",
       "      <td>9.0</td>\n",
       "      <td>0.666667</td>\n",
       "      <td>1.0</td>\n",
       "      <td>0.666667</td>\n",
       "    </tr>\n",
       "    <tr>\n",
       "      <th>3</th>\n",
       "      <td>1</td>\n",
       "      <td>12427</td>\n",
       "      <td>10.0</td>\n",
       "      <td>9.0</td>\n",
       "      <td>0.900000</td>\n",
       "      <td>3.300000</td>\n",
       "      <td>17.600000</td>\n",
       "      <td>10.0</td>\n",
       "      <td>1.0</td>\n",
       "      <td>1.0</td>\n",
       "      <td>...</td>\n",
       "      <td>0.694915</td>\n",
       "      <td>1</td>\n",
       "      <td>5.9</td>\n",
       "      <td>0.705833</td>\n",
       "      <td>6.0</td>\n",
       "      <td>6.0</td>\n",
       "      <td>9.0</td>\n",
       "      <td>0.666667</td>\n",
       "      <td>1.0</td>\n",
       "      <td>0.666667</td>\n",
       "    </tr>\n",
       "    <tr>\n",
       "      <th>4</th>\n",
       "      <td>1</td>\n",
       "      <td>13032</td>\n",
       "      <td>3.0</td>\n",
       "      <td>2.0</td>\n",
       "      <td>0.666667</td>\n",
       "      <td>6.333333</td>\n",
       "      <td>21.666666</td>\n",
       "      <td>10.0</td>\n",
       "      <td>1.0</td>\n",
       "      <td>0.0</td>\n",
       "      <td>...</td>\n",
       "      <td>0.694915</td>\n",
       "      <td>1</td>\n",
       "      <td>5.9</td>\n",
       "      <td>0.705833</td>\n",
       "      <td>6.0</td>\n",
       "      <td>6.0</td>\n",
       "      <td>9.0</td>\n",
       "      <td>0.666667</td>\n",
       "      <td>1.0</td>\n",
       "      <td>0.666667</td>\n",
       "    </tr>\n",
       "  </tbody>\n",
       "</table>\n",
       "<p>5 rows × 73 columns</p>\n",
       "</div>"
      ],
      "text/plain": [
       "   user_id  product_id  total_product_orders_by_user  \\\n",
       "0        1         196                          10.0   \n",
       "1        1       10258                           9.0   \n",
       "2        1       10326                           1.0   \n",
       "3        1       12427                          10.0   \n",
       "4        1       13032                           3.0   \n",
       "\n",
       "   total_product_reorders_by_user  user_product_reorder_percentage  \\\n",
       "0                             9.0                         0.900000   \n",
       "1                             8.0                         0.888889   \n",
       "2                             0.0                         0.000000   \n",
       "3                             9.0                         0.900000   \n",
       "4                             2.0                         0.666667   \n",
       "\n",
       "   avg_add_to_cart_by_user  avg_days_since_last_bought  last_ordered_in  \\\n",
       "0                 1.400000                   17.600000             10.0   \n",
       "1                 3.333333                   19.555555             10.0   \n",
       "2                 5.000000                   28.000000              5.0   \n",
       "3                 3.300000                   17.600000             10.0   \n",
       "4                 6.333333                   21.666666             10.0   \n",
       "\n",
       "   is_reorder_3_x  is_reorder_2_x  ...  reorder_proportion_by_user  \\\n",
       "0             1.0             1.0  ...                    0.694915   \n",
       "1             1.0             1.0  ...                    0.694915   \n",
       "2             0.0             0.0  ...                    0.694915   \n",
       "3             1.0             1.0  ...                    0.694915   \n",
       "4             1.0             0.0  ...                    0.694915   \n",
       "\n",
       "   department_unique_users_y  average_order_size  reorder_in_order  orders_3  \\\n",
       "0                          1                 5.9          0.705833       6.0   \n",
       "1                          1                 5.9          0.705833       6.0   \n",
       "2                          1                 5.9          0.705833       6.0   \n",
       "3                          1                 5.9          0.705833       6.0   \n",
       "4                          1                 5.9          0.705833       6.0   \n",
       "\n",
       "   orders_2  orders_1  reorder_3  reorder_2  reorder_1  \n",
       "0       6.0       9.0   0.666667        1.0   0.666667  \n",
       "1       6.0       9.0   0.666667        1.0   0.666667  \n",
       "2       6.0       9.0   0.666667        1.0   0.666667  \n",
       "3       6.0       9.0   0.666667        1.0   0.666667  \n",
       "4       6.0       9.0   0.666667        1.0   0.666667  \n",
       "\n",
       "[5 rows x 73 columns]"
      ]
     },
     "execution_count": 3,
     "metadata": {},
     "output_type": "execute_result"
    }
   ],
   "source": [
    "df = pd.read_pickle(root + 'Finaldata.pkl')\n",
    "df.head()"
   ]
  },
  {
   "cell_type": "code",
   "execution_count": 4,
   "metadata": {},
   "outputs": [],
   "source": [
    "def reduce_memory(df):\n",
    "    \n",
    "    \"\"\"\n",
    "    This function reduce the dataframe memory usage by converting it's type for easier handling.\n",
    "    \n",
    "    Parameters: Dataframe\n",
    "    Return: Dataframe\n",
    "    \"\"\"\n",
    "    \n",
    "    start_mem_usg = df.memory_usage().sum() / 1024**2 \n",
    "    print(\"Memory usage of properties dataframe is :\",start_mem_usg,\" MB\")\n",
    "    \n",
    "    for col in df.columns:\n",
    "        if df[col].dtypes in [\"int64\", \"int32\", \"int16\"]:\n",
    "            \n",
    "            cmin = df[col].min()\n",
    "            cmax = df[col].max()\n",
    "            \n",
    "            if cmin > np.iinfo(np.int8).min and cmax < np.iinfo(np.int8).max:\n",
    "                df[col] = df[col].astype(np.int8)\n",
    "            \n",
    "            elif cmin > np.iinfo(np.int16).min and cmax < np.iinfo(np.int16).max:\n",
    "                df[col] = df[col].astype(np.int16)\n",
    "            \n",
    "            elif cmin > np.iinfo(np.int32).min and cmax < np.iinfo(np.int32).max:\n",
    "                df[col] = df[col].astype(np.int32)\n",
    "        \n",
    "        if df[col].dtypes in [\"float64\", \"float32\"]:\n",
    "            \n",
    "            cmin = df[col].min()\n",
    "            cmax = df[col].max()\n",
    "            \n",
    "            if cmin > np.finfo(np.float16).min and cmax < np.finfo(np.float16).max:\n",
    "                df[col] = df[col].astype(np.float16)\n",
    "            \n",
    "            elif cmin > np.finfo(np.float32).min and cmax < np.finfo(np.float32).max:\n",
    "                df[col] = df[col].astype(np.float32)\n",
    "    \n",
    "    print(\"\")\n",
    "    print(\"___MEMORY USAGE AFTER COMPLETION:___\")\n",
    "    mem_usg = df.memory_usage().sum() / 1024**2 \n",
    "    print(\"Memory usage is: \",mem_usg,\" MB\")\n",
    "    print(\"This is \",100*mem_usg/start_mem_usg,\"% of the initial size\")\n",
    "    \n",
    "    return df"
   ]
  },
  {
   "cell_type": "code",
   "execution_count": 5,
   "metadata": {},
   "outputs": [
    {
     "name": "stdout",
     "output_type": "stream",
     "text": [
      "Memory usage of properties dataframe is : 4542.121519088745  MB\n",
      "\n",
      "___MEMORY USAGE AFTER COMPLETION:___\n",
      "Memory usage is:  1244.6383724212646  MB\n",
      "This is  27.402137243368337 % of the initial size\n"
     ]
    }
   ],
   "source": [
    "df = reduce_memory(df)"
   ]
  },
  {
   "cell_type": "code",
   "execution_count": 6,
   "metadata": {},
   "outputs": [],
   "source": [
    "df['order_diff'] = df.order_number - df.last_ordered_in\n",
    "df.drop(['user_id', 'product_id'], axis = 1, inplace = True)"
   ]
  },
  {
   "cell_type": "code",
   "execution_count": 7,
   "metadata": {},
   "outputs": [
    {
     "data": {
      "text/html": [
       "<div>\n",
       "<style scoped>\n",
       "    .dataframe tbody tr th:only-of-type {\n",
       "        vertical-align: middle;\n",
       "    }\n",
       "\n",
       "    .dataframe tbody tr th {\n",
       "        vertical-align: top;\n",
       "    }\n",
       "\n",
       "    .dataframe thead th {\n",
       "        text-align: right;\n",
       "    }\n",
       "</style>\n",
       "<table border=\"1\" class=\"dataframe\">\n",
       "  <thead>\n",
       "    <tr style=\"text-align: right;\">\n",
       "      <th></th>\n",
       "      <th>total_product_orders_by_user</th>\n",
       "      <th>total_product_reorders_by_user</th>\n",
       "      <th>user_product_reorder_percentage</th>\n",
       "      <th>avg_add_to_cart_by_user</th>\n",
       "      <th>avg_days_since_last_bought</th>\n",
       "      <th>last_ordered_in</th>\n",
       "      <th>is_reorder_3_x</th>\n",
       "      <th>is_reorder_2_x</th>\n",
       "      <th>is_reorder_1_x</th>\n",
       "      <th>is_reorder_3_y</th>\n",
       "      <th>...</th>\n",
       "      <th>department_unique_users_y</th>\n",
       "      <th>average_order_size</th>\n",
       "      <th>reorder_in_order</th>\n",
       "      <th>orders_3</th>\n",
       "      <th>orders_2</th>\n",
       "      <th>orders_1</th>\n",
       "      <th>reorder_3</th>\n",
       "      <th>reorder_2</th>\n",
       "      <th>reorder_1</th>\n",
       "      <th>order_diff</th>\n",
       "    </tr>\n",
       "  </thead>\n",
       "  <tbody>\n",
       "    <tr>\n",
       "      <th>0</th>\n",
       "      <td>10.0</td>\n",
       "      <td>9.0</td>\n",
       "      <td>0.899902</td>\n",
       "      <td>1.400391</td>\n",
       "      <td>17.593750</td>\n",
       "      <td>10.0</td>\n",
       "      <td>1.0</td>\n",
       "      <td>1.0</td>\n",
       "      <td>1.0</td>\n",
       "      <td>1.0</td>\n",
       "      <td>...</td>\n",
       "      <td>1</td>\n",
       "      <td>5.898438</td>\n",
       "      <td>0.706055</td>\n",
       "      <td>6.0</td>\n",
       "      <td>6.0</td>\n",
       "      <td>9.0</td>\n",
       "      <td>0.666504</td>\n",
       "      <td>1.0</td>\n",
       "      <td>0.666504</td>\n",
       "      <td>1.0</td>\n",
       "    </tr>\n",
       "    <tr>\n",
       "      <th>1</th>\n",
       "      <td>9.0</td>\n",
       "      <td>8.0</td>\n",
       "      <td>0.888672</td>\n",
       "      <td>3.333984</td>\n",
       "      <td>19.562500</td>\n",
       "      <td>10.0</td>\n",
       "      <td>1.0</td>\n",
       "      <td>1.0</td>\n",
       "      <td>1.0</td>\n",
       "      <td>1.0</td>\n",
       "      <td>...</td>\n",
       "      <td>1</td>\n",
       "      <td>5.898438</td>\n",
       "      <td>0.706055</td>\n",
       "      <td>6.0</td>\n",
       "      <td>6.0</td>\n",
       "      <td>9.0</td>\n",
       "      <td>0.666504</td>\n",
       "      <td>1.0</td>\n",
       "      <td>0.666504</td>\n",
       "      <td>1.0</td>\n",
       "    </tr>\n",
       "    <tr>\n",
       "      <th>2</th>\n",
       "      <td>1.0</td>\n",
       "      <td>0.0</td>\n",
       "      <td>0.000000</td>\n",
       "      <td>5.000000</td>\n",
       "      <td>28.000000</td>\n",
       "      <td>5.0</td>\n",
       "      <td>0.0</td>\n",
       "      <td>0.0</td>\n",
       "      <td>0.0</td>\n",
       "      <td>0.0</td>\n",
       "      <td>...</td>\n",
       "      <td>1</td>\n",
       "      <td>5.898438</td>\n",
       "      <td>0.706055</td>\n",
       "      <td>6.0</td>\n",
       "      <td>6.0</td>\n",
       "      <td>9.0</td>\n",
       "      <td>0.666504</td>\n",
       "      <td>1.0</td>\n",
       "      <td>0.666504</td>\n",
       "      <td>6.0</td>\n",
       "    </tr>\n",
       "    <tr>\n",
       "      <th>3</th>\n",
       "      <td>10.0</td>\n",
       "      <td>9.0</td>\n",
       "      <td>0.899902</td>\n",
       "      <td>3.300781</td>\n",
       "      <td>17.593750</td>\n",
       "      <td>10.0</td>\n",
       "      <td>1.0</td>\n",
       "      <td>1.0</td>\n",
       "      <td>1.0</td>\n",
       "      <td>1.0</td>\n",
       "      <td>...</td>\n",
       "      <td>1</td>\n",
       "      <td>5.898438</td>\n",
       "      <td>0.706055</td>\n",
       "      <td>6.0</td>\n",
       "      <td>6.0</td>\n",
       "      <td>9.0</td>\n",
       "      <td>0.666504</td>\n",
       "      <td>1.0</td>\n",
       "      <td>0.666504</td>\n",
       "      <td>1.0</td>\n",
       "    </tr>\n",
       "    <tr>\n",
       "      <th>4</th>\n",
       "      <td>3.0</td>\n",
       "      <td>2.0</td>\n",
       "      <td>0.666504</td>\n",
       "      <td>6.332031</td>\n",
       "      <td>21.671875</td>\n",
       "      <td>10.0</td>\n",
       "      <td>1.0</td>\n",
       "      <td>0.0</td>\n",
       "      <td>0.0</td>\n",
       "      <td>1.0</td>\n",
       "      <td>...</td>\n",
       "      <td>1</td>\n",
       "      <td>5.898438</td>\n",
       "      <td>0.706055</td>\n",
       "      <td>6.0</td>\n",
       "      <td>6.0</td>\n",
       "      <td>9.0</td>\n",
       "      <td>0.666504</td>\n",
       "      <td>1.0</td>\n",
       "      <td>0.666504</td>\n",
       "      <td>1.0</td>\n",
       "    </tr>\n",
       "  </tbody>\n",
       "</table>\n",
       "<p>5 rows × 72 columns</p>\n",
       "</div>"
      ],
      "text/plain": [
       "   total_product_orders_by_user  total_product_reorders_by_user  \\\n",
       "0                          10.0                             9.0   \n",
       "1                           9.0                             8.0   \n",
       "2                           1.0                             0.0   \n",
       "3                          10.0                             9.0   \n",
       "4                           3.0                             2.0   \n",
       "\n",
       "   user_product_reorder_percentage  avg_add_to_cart_by_user  \\\n",
       "0                         0.899902                 1.400391   \n",
       "1                         0.888672                 3.333984   \n",
       "2                         0.000000                 5.000000   \n",
       "3                         0.899902                 3.300781   \n",
       "4                         0.666504                 6.332031   \n",
       "\n",
       "   avg_days_since_last_bought  last_ordered_in  is_reorder_3_x  \\\n",
       "0                   17.593750             10.0             1.0   \n",
       "1                   19.562500             10.0             1.0   \n",
       "2                   28.000000              5.0             0.0   \n",
       "3                   17.593750             10.0             1.0   \n",
       "4                   21.671875             10.0             1.0   \n",
       "\n",
       "   is_reorder_2_x  is_reorder_1_x  is_reorder_3_y  ...  \\\n",
       "0             1.0             1.0             1.0  ...   \n",
       "1             1.0             1.0             1.0  ...   \n",
       "2             0.0             0.0             0.0  ...   \n",
       "3             1.0             1.0             1.0  ...   \n",
       "4             0.0             0.0             1.0  ...   \n",
       "\n",
       "   department_unique_users_y  average_order_size  reorder_in_order  orders_3  \\\n",
       "0                          1            5.898438          0.706055       6.0   \n",
       "1                          1            5.898438          0.706055       6.0   \n",
       "2                          1            5.898438          0.706055       6.0   \n",
       "3                          1            5.898438          0.706055       6.0   \n",
       "4                          1            5.898438          0.706055       6.0   \n",
       "\n",
       "   orders_2  orders_1  reorder_3  reorder_2  reorder_1  order_diff  \n",
       "0       6.0       9.0   0.666504        1.0   0.666504         1.0  \n",
       "1       6.0       9.0   0.666504        1.0   0.666504         1.0  \n",
       "2       6.0       9.0   0.666504        1.0   0.666504         6.0  \n",
       "3       6.0       9.0   0.666504        1.0   0.666504         1.0  \n",
       "4       6.0       9.0   0.666504        1.0   0.666504         1.0  \n",
       "\n",
       "[5 rows x 72 columns]"
      ]
     },
     "execution_count": 7,
     "metadata": {},
     "output_type": "execute_result"
    }
   ],
   "source": [
    "df.head()"
   ]
  },
  {
   "cell_type": "code",
   "execution_count": 17,
   "metadata": {},
   "outputs": [
    {
     "name": "stdout",
     "output_type": "stream",
     "text": [
      "<class 'pandas.core.frame.DataFrame'>\n",
      "RangeIndex: 8474661 entries, 0 to 8474660\n",
      "Data columns (total 72 columns):\n",
      " #   Column                             Dtype  \n",
      "---  ------                             -----  \n",
      " 0   total_product_orders_by_user       float16\n",
      " 1   total_product_reorders_by_user     float16\n",
      " 2   user_product_reorder_percentage    float16\n",
      " 3   avg_add_to_cart_by_user            float16\n",
      " 4   avg_days_since_last_bought         float16\n",
      " 5   last_ordered_in                    float16\n",
      " 6   is_reorder_3_x                     float16\n",
      " 7   is_reorder_2_x                     float16\n",
      " 8   is_reorder_1_x                     float16\n",
      " 9   is_reorder_3_y                     float16\n",
      " 10  is_reorder_2_y                     float16\n",
      " 11  is_reorder_1_y                     float16\n",
      " 12  order_number                       float16\n",
      " 13  order_dow                          float16\n",
      " 14  order_hour_of_day                  float16\n",
      " 15  days_since_prior_order             float16\n",
      " 16  reordered                          float16\n",
      " 17  mean_add_to_cart_order             float16\n",
      " 18  total_orders                       int32  \n",
      " 19  total_reorders                     int32  \n",
      " 20  reorder_percentage                 float16\n",
      " 21  unique_users                       int32  \n",
      " 22  order_first_time_total_cnt         int32  \n",
      " 23  order_second_time_total_cnt        int32  \n",
      " 24  is_organic                         int8   \n",
      " 25  second_time_percent                float16\n",
      " 26  aisle_mean_add_to_cart_order       float16\n",
      " 27  aisle_std_add_to_cart_order        float16\n",
      " 28  aisle_total_orders                 int32  \n",
      " 29  aisle_total_reorders               int32  \n",
      " 30  aisle_reorder_percentage           float16\n",
      " 31  aisle_unique_users                 int32  \n",
      " 32  aisle_0                            int8   \n",
      " 33  aisle_1                            int8   \n",
      " 34  aisle_2                            int8   \n",
      " 35  aisle_3                            int8   \n",
      " 36  aisle_4                            int8   \n",
      " 37  aisle_5                            int8   \n",
      " 38  aisle_6                            int8   \n",
      " 39  aisle_7                            int8   \n",
      " 40  department_mean_add_to_cart_order  float16\n",
      " 41  department_std_add_to_cart_order   float16\n",
      " 42  department_total_orders            int32  \n",
      " 43  department_total_reorders          int32  \n",
      " 44  department_reorder_percentage      float16\n",
      " 45  department_unique_users_x          int32  \n",
      " 46  department_0                       int8   \n",
      " 47  department_1                       int8   \n",
      " 48  department_2                       int8   \n",
      " 49  department_3                       int8   \n",
      " 50  department_4                       int8   \n",
      " 51  avg_dow                            float16\n",
      " 52  std_dow                            float16\n",
      " 53  avg_doh                            float16\n",
      " 54  std_doh                            float16\n",
      " 55  avg_since_order                    float16\n",
      " 56  std_since_order                    float16\n",
      " 57  total_orders_by_user               int8   \n",
      " 58  total_products_by_user             int16  \n",
      " 59  total_unique_product_by_user       int16  \n",
      " 60  total_reorders_by_user             int16  \n",
      " 61  reorder_proportion_by_user         float16\n",
      " 62  department_unique_users_y          int8   \n",
      " 63  average_order_size                 float16\n",
      " 64  reorder_in_order                   float16\n",
      " 65  orders_3                           float16\n",
      " 66  orders_2                           float16\n",
      " 67  orders_1                           float16\n",
      " 68  reorder_3                          float16\n",
      " 69  reorder_2                          float16\n",
      " 70  reorder_1                          float16\n",
      " 71  order_diff                         float16\n",
      "dtypes: float16(42), int16(3), int32(11), int8(16)\n",
      "memory usage: 1.2 GB\n"
     ]
    }
   ],
   "source": [
    "df.info()"
   ]
  },
  {
   "cell_type": "code",
   "execution_count": 8,
   "metadata": {},
   "outputs": [
    {
     "data": {
      "text/plain": [
       "(8474661, 72)"
      ]
     },
     "execution_count": 8,
     "metadata": {},
     "output_type": "execute_result"
    }
   ],
   "source": [
    "df.shape"
   ]
  },
  {
   "cell_type": "code",
   "execution_count": 9,
   "metadata": {},
   "outputs": [],
   "source": [
    "label = 'reordered'\n",
    "x_cols = df.columns.drop('reordered')"
   ]
  },
  {
   "cell_type": "code",
   "execution_count": 10,
   "metadata": {},
   "outputs": [],
   "source": [
    "X = df[x_cols]\n",
    "y = df[label]"
   ]
  },
  {
   "cell_type": "code",
   "execution_count": 18,
   "metadata": {},
   "outputs": [
    {
     "name": "stdout",
     "output_type": "stream",
     "text": [
      "(6355995, 71) (6355995,)\n",
      "(2118666, 71) (2118666,)\n"
     ]
    }
   ],
   "source": [
    "X_train, X_test, y_train, y_test = train_test_split(X, y, stratify = y, test_size = 0.25)\n",
    "\n",
    "print(X_train.shape, y_train.shape)\n",
    "print(X_test.shape, y_test.shape)"
   ]
  },
  {
   "cell_type": "code",
   "execution_count": 19,
   "metadata": {},
   "outputs": [
    {
     "data": {
      "text/plain": [
       "reordered\n",
       "0.0    5734377\n",
       "1.0     621618\n",
       "Name: count, dtype: int64"
      ]
     },
     "execution_count": 19,
     "metadata": {},
     "output_type": "execute_result"
    }
   ],
   "source": [
    "y_train.value_counts()"
   ]
  },
  {
   "cell_type": "code",
   "execution_count": 20,
   "metadata": {},
   "outputs": [
    {
     "data": {
      "text/plain": [
       "10.0"
      ]
     },
     "execution_count": 20,
     "metadata": {},
     "output_type": "execute_result"
    }
   ],
   "source": [
    "np.ceil(y_train.value_counts()[0]/y_train.value_counts()[1])"
   ]
  },
  {
   "cell_type": "code",
   "execution_count": 21,
   "metadata": {},
   "outputs": [
    {
     "data": {
      "text/plain": [
       "reordered\n",
       "0.0    1911460\n",
       "1.0     207206\n",
       "Name: count, dtype: int64"
      ]
     },
     "execution_count": 21,
     "metadata": {},
     "output_type": "execute_result"
    }
   ],
   "source": [
    "y_test.value_counts()"
   ]
  },
  {
   "cell_type": "code",
   "execution_count": 22,
   "metadata": {},
   "outputs": [
    {
     "data": {
      "text/plain": [
       "304"
      ]
     },
     "execution_count": 22,
     "metadata": {},
     "output_type": "execute_result"
    }
   ],
   "source": [
    "# freeing memory\n",
    "del df, X, y\n",
    "gc.collect()"
   ]
  },
  {
   "cell_type": "markdown",
   "metadata": {},
   "source": [
    "### Neural Network model"
   ]
  },
  {
   "cell_type": "code",
   "execution_count": 34,
   "metadata": {},
   "outputs": [],
   "source": [
    "import keras\n",
    "from keras.models import Sequential\n",
    "from keras.layers import Dense, Dropout\n",
    "from keras.regularizers import l2\n",
    "from keras.callbacks import History\n",
    "import tensorflow.keras.backend as K\n",
    "from sklearn.preprocessing import MinMaxScaler\n",
    "from imblearn.over_sampling import SMOTE\n",
    "from keras.regularizers import l2"
   ]
  },
  {
   "cell_type": "code",
   "execution_count": 35,
   "metadata": {},
   "outputs": [],
   "source": [
    "smote = SMOTE(random_state=42)\n",
    "X_train_resampled, y_train_resampled = smote.fit_resample(X_train, y_train)"
   ]
  },
  {
   "cell_type": "code",
   "execution_count": 36,
   "metadata": {},
   "outputs": [],
   "source": [
    "sc = MinMaxScaler()\n",
    "X_train_sc = sc.fit_transform(X_train_resampled)\n",
    "X_test_sc = sc.transform(X_test)"
   ]
  },
  {
   "cell_type": "code",
   "execution_count": 37,
   "metadata": {},
   "outputs": [
    {
     "data": {
      "text/plain": [
       "71"
      ]
     },
     "execution_count": 37,
     "metadata": {},
     "output_type": "execute_result"
    }
   ],
   "source": [
    "input_dim =  X_train_sc.shape[1]\n",
    "input_dim"
   ]
  },
  {
   "cell_type": "code",
   "execution_count": 38,
   "metadata": {},
   "outputs": [],
   "source": [
    "def precision_m(y_true, y_pred):\n",
    "    true_positives = K.sum(K.round(K.clip(y_true * y_pred, 0, 1)))\n",
    "    predicted_positives = K.sum(K.round(K.clip(y_pred, 0, 1)))\n",
    "    precision = true_positives / (predicted_positives + K.epsilon())\n",
    "    return precision\n",
    "\n",
    "def recall_m(y_true, y_pred):\n",
    "    true_positives = K.sum(K.round(K.clip(y_true * y_pred, 0, 1)))\n",
    "    possible_positives = K.sum(K.round(K.clip(y_true, 0, 1)))\n",
    "    recall = true_positives / (possible_positives + K.epsilon())\n",
    "    return recall\n",
    "\n",
    "def f1_m(y_true, y_pred):\n",
    "    precision = precision_m(y_true, y_pred)\n",
    "    recall = recall_m(y_true, y_pred)\n",
    "    return 2*((precision*recall)/(precision+recall+K.epsilon()))"
   ]
  },
  {
   "cell_type": "code",
   "execution_count": 39,
   "metadata": {},
   "outputs": [
    {
     "name": "stderr",
     "output_type": "stream",
     "text": [
      "C:\\Python312\\Lib\\site-packages\\keras\\src\\layers\\core\\dense.py:85: UserWarning: Do not pass an `input_shape`/`input_dim` argument to a layer. When using Sequential models, prefer using an `Input(shape)` object as the first layer in the model instead.\n",
      "  super().__init__(activity_regularizer=activity_regularizer, **kwargs)\n"
     ]
    },
    {
     "name": "stdout",
     "output_type": "stream",
     "text": [
      "Epoch 1/50\n",
      "\u001b[1m19040/19040\u001b[0m \u001b[32m━━━━━━━━━━━━━━━━━━━━\u001b[0m\u001b[37m\u001b[0m \u001b[1m55s\u001b[0m 3ms/step - accuracy: 0.8323 - f1_m: 0.7781 - loss: 0.4301 - precision_m: 0.8549 - recall_m: 0.7183 - val_accuracy: 0.8405 - val_f1_m: 0.9132 - val_loss: 0.3470 - val_precision_m: 1.0000 - val_recall_m: 0.8405\n",
      "Epoch 2/50\n",
      "\u001b[1m19040/19040\u001b[0m \u001b[32m━━━━━━━━━━━━━━━━━━━━\u001b[0m\u001b[37m\u001b[0m \u001b[1m43s\u001b[0m 2ms/step - accuracy: 0.8516 - f1_m: 0.8042 - loss: 0.3795 - precision_m: 0.8790 - recall_m: 0.7440 - val_accuracy: 0.7643 - val_f1_m: 0.8663 - val_loss: 0.4708 - val_precision_m: 1.0000 - val_recall_m: 0.7643\n",
      "Epoch 3/50\n",
      "\u001b[1m19040/19040\u001b[0m \u001b[32m━━━━━━━━━━━━━━━━━━━━\u001b[0m\u001b[37m\u001b[0m \u001b[1m43s\u001b[0m 2ms/step - accuracy: 0.8534 - f1_m: 0.8066 - loss: 0.3772 - precision_m: 0.8818 - recall_m: 0.7459 - val_accuracy: 0.7676 - val_f1_m: 0.8684 - val_loss: 0.4588 - val_precision_m: 1.0000 - val_recall_m: 0.7676\n",
      "Epoch 4/50\n",
      "\u001b[1m19040/19040\u001b[0m \u001b[32m━━━━━━━━━━━━━━━━━━━━\u001b[0m\u001b[37m\u001b[0m \u001b[1m44s\u001b[0m 2ms/step - accuracy: 0.8550 - f1_m: 0.8085 - loss: 0.3758 - precision_m: 0.8844 - recall_m: 0.7472 - val_accuracy: 0.7769 - val_f1_m: 0.8743 - val_loss: 0.4411 - val_precision_m: 1.0000 - val_recall_m: 0.7769\n",
      "Epoch 5/50\n",
      "\u001b[1m19040/19040\u001b[0m \u001b[32m━━━━━━━━━━━━━━━━━━━━\u001b[0m\u001b[37m\u001b[0m \u001b[1m44s\u001b[0m 2ms/step - accuracy: 0.8569 - f1_m: 0.8111 - loss: 0.3747 - precision_m: 0.8873 - recall_m: 0.7497 - val_accuracy: 0.8219 - val_f1_m: 0.9022 - val_loss: 0.3691 - val_precision_m: 1.0000 - val_recall_m: 0.8219\n",
      "Epoch 6/50\n",
      "\u001b[1m19040/19040\u001b[0m \u001b[32m━━━━━━━━━━━━━━━━━━━━\u001b[0m\u001b[37m\u001b[0m \u001b[1m44s\u001b[0m 2ms/step - accuracy: 0.8587 - f1_m: 0.8135 - loss: 0.3734 - precision_m: 0.8894 - recall_m: 0.7523 - val_accuracy: 0.7614 - val_f1_m: 0.8644 - val_loss: 0.4815 - val_precision_m: 1.0000 - val_recall_m: 0.7614\n",
      "Epoch 7/50\n",
      "\u001b[1m19040/19040\u001b[0m \u001b[32m━━━━━━━━━━━━━━━━━━━━\u001b[0m\u001b[37m\u001b[0m \u001b[1m44s\u001b[0m 2ms/step - accuracy: 0.8600 - f1_m: 0.8152 - loss: 0.3731 - precision_m: 0.8912 - recall_m: 0.7538 - val_accuracy: 0.8102 - val_f1_m: 0.8951 - val_loss: 0.3936 - val_precision_m: 1.0000 - val_recall_m: 0.8102\n",
      "Epoch 8/50\n",
      "\u001b[1m19040/19040\u001b[0m \u001b[32m━━━━━━━━━━━━━━━━━━━━\u001b[0m\u001b[37m\u001b[0m \u001b[1m44s\u001b[0m 2ms/step - accuracy: 0.8608 - f1_m: 0.8164 - loss: 0.3730 - precision_m: 0.8922 - recall_m: 0.7551 - val_accuracy: 0.8594 - val_f1_m: 0.9243 - val_loss: 0.3166 - val_precision_m: 1.0000 - val_recall_m: 0.8594\n",
      "Epoch 9/50\n",
      "\u001b[1m19040/19040\u001b[0m \u001b[32m━━━━━━━━━━━━━━━━━━━━\u001b[0m\u001b[37m\u001b[0m \u001b[1m43s\u001b[0m 2ms/step - accuracy: 0.8619 - f1_m: 0.8178 - loss: 0.3724 - precision_m: 0.8938 - recall_m: 0.7562 - val_accuracy: 0.7905 - val_f1_m: 0.8829 - val_loss: 0.4238 - val_precision_m: 1.0000 - val_recall_m: 0.7905\n",
      "Epoch 10/50\n",
      "\u001b[1m19040/19040\u001b[0m \u001b[32m━━━━━━━━━━━━━━━━━━━━\u001b[0m\u001b[37m\u001b[0m \u001b[1m44s\u001b[0m 2ms/step - accuracy: 0.8627 - f1_m: 0.8190 - loss: 0.3721 - precision_m: 0.8942 - recall_m: 0.7582 - val_accuracy: 0.8125 - val_f1_m: 0.8965 - val_loss: 0.3939 - val_precision_m: 1.0000 - val_recall_m: 0.8125\n",
      "Epoch 11/50\n",
      "\u001b[1m19040/19040\u001b[0m \u001b[32m━━━━━━━━━━━━━━━━━━━━\u001b[0m\u001b[37m\u001b[0m \u001b[1m44s\u001b[0m 2ms/step - accuracy: 0.8637 - f1_m: 0.8204 - loss: 0.3717 - precision_m: 0.8953 - recall_m: 0.7595 - val_accuracy: 0.8534 - val_f1_m: 0.9208 - val_loss: 0.3339 - val_precision_m: 1.0000 - val_recall_m: 0.8534\n",
      "Epoch 12/50\n",
      "\u001b[1m19040/19040\u001b[0m \u001b[32m━━━━━━━━━━━━━━━━━━━━\u001b[0m\u001b[37m\u001b[0m \u001b[1m44s\u001b[0m 2ms/step - accuracy: 0.8647 - f1_m: 0.8216 - loss: 0.3709 - precision_m: 0.8970 - recall_m: 0.7604 - val_accuracy: 0.8567 - val_f1_m: 0.9227 - val_loss: 0.3275 - val_precision_m: 1.0000 - val_recall_m: 0.8567\n",
      "Epoch 13/50\n",
      "\u001b[1m19040/19040\u001b[0m \u001b[32m━━━━━━━━━━━━━━━━━━━━\u001b[0m\u001b[37m\u001b[0m \u001b[1m44s\u001b[0m 2ms/step - accuracy: 0.8653 - f1_m: 0.8225 - loss: 0.3705 - precision_m: 0.8978 - recall_m: 0.7616 - val_accuracy: 0.8267 - val_f1_m: 0.9051 - val_loss: 0.3794 - val_precision_m: 1.0000 - val_recall_m: 0.8267\n",
      "Epoch 14/50\n",
      "\u001b[1m19040/19040\u001b[0m \u001b[32m━━━━━━━━━━━━━━━━━━━━\u001b[0m\u001b[37m\u001b[0m \u001b[1m43s\u001b[0m 2ms/step - accuracy: 0.8661 - f1_m: 0.8237 - loss: 0.3700 - precision_m: 0.8986 - recall_m: 0.7630 - val_accuracy: 0.8049 - val_f1_m: 0.8918 - val_loss: 0.4154 - val_precision_m: 1.0000 - val_recall_m: 0.8049\n",
      "Epoch 15/50\n",
      "\u001b[1m19040/19040\u001b[0m \u001b[32m━━━━━━━━━━━━━━━━━━━━\u001b[0m\u001b[37m\u001b[0m \u001b[1m44s\u001b[0m 2ms/step - accuracy: 0.8668 - f1_m: 0.8247 - loss: 0.3697 - precision_m: 0.8994 - recall_m: 0.7641 - val_accuracy: 0.8373 - val_f1_m: 0.9114 - val_loss: 0.3549 - val_precision_m: 1.0000 - val_recall_m: 0.8373\n",
      "Epoch 16/50\n",
      "\u001b[1m19040/19040\u001b[0m \u001b[32m━━━━━━━━━━━━━━━━━━━━\u001b[0m\u001b[37m\u001b[0m \u001b[1m43s\u001b[0m 2ms/step - accuracy: 0.8682 - f1_m: 0.8264 - loss: 0.3686 - precision_m: 0.9010 - recall_m: 0.7658 - val_accuracy: 0.8089 - val_f1_m: 0.8942 - val_loss: 0.3955 - val_precision_m: 1.0000 - val_recall_m: 0.8089\n",
      "Epoch 17/50\n",
      "\u001b[1m19040/19040\u001b[0m \u001b[32m━━━━━━━━━━━━━━━━━━━━\u001b[0m\u001b[37m\u001b[0m \u001b[1m45s\u001b[0m 2ms/step - accuracy: 0.8684 - f1_m: 0.8268 - loss: 0.3688 - precision_m: 0.9010 - recall_m: 0.7665 - val_accuracy: 0.8362 - val_f1_m: 0.9107 - val_loss: 0.3808 - val_precision_m: 1.0000 - val_recall_m: 0.8362\n",
      "Epoch 18/50\n",
      "\u001b[1m19040/19040\u001b[0m \u001b[32m━━━━━━━━━━━━━━━━━━━━\u001b[0m\u001b[37m\u001b[0m \u001b[1m44s\u001b[0m 2ms/step - accuracy: 0.8692 - f1_m: 0.8279 - loss: 0.3685 - precision_m: 0.9019 - recall_m: 0.7678 - val_accuracy: 0.8333 - val_f1_m: 0.9090 - val_loss: 0.3666 - val_precision_m: 1.0000 - val_recall_m: 0.8333\n"
     ]
    },
    {
     "data": {
      "text/html": [
       "<pre style=\"white-space:pre;overflow-x:auto;line-height:normal;font-family:Menlo,'DejaVu Sans Mono',consolas,'Courier New',monospace\"><span style=\"font-weight: bold\">Model: \"sequential_3\"</span>\n",
       "</pre>\n"
      ],
      "text/plain": [
       "\u001b[1mModel: \"sequential_3\"\u001b[0m\n"
      ]
     },
     "metadata": {},
     "output_type": "display_data"
    },
    {
     "data": {
      "text/html": [
       "<pre style=\"white-space:pre;overflow-x:auto;line-height:normal;font-family:Menlo,'DejaVu Sans Mono',consolas,'Courier New',monospace\">┏━━━━━━━━━━━━━━━━━━━━━━━━━━━━━━━━━━━━━━┳━━━━━━━━━━━━━━━━━━━━━━━━━━━━━┳━━━━━━━━━━━━━━━━━┓\n",
       "┃<span style=\"font-weight: bold\"> Layer (type)                         </span>┃<span style=\"font-weight: bold\"> Output Shape                </span>┃<span style=\"font-weight: bold\">         Param # </span>┃\n",
       "┡━━━━━━━━━━━━━━━━━━━━━━━━━━━━━━━━━━━━━━╇━━━━━━━━━━━━━━━━━━━━━━━━━━━━━╇━━━━━━━━━━━━━━━━━┩\n",
       "│ dense_11 (<span style=\"color: #0087ff; text-decoration-color: #0087ff\">Dense</span>)                     │ (<span style=\"color: #00d7ff; text-decoration-color: #00d7ff\">None</span>, <span style=\"color: #00af00; text-decoration-color: #00af00\">128</span>)                 │           <span style=\"color: #00af00; text-decoration-color: #00af00\">9,216</span> │\n",
       "├──────────────────────────────────────┼─────────────────────────────┼─────────────────┤\n",
       "│ dense_12 (<span style=\"color: #0087ff; text-decoration-color: #0087ff\">Dense</span>)                     │ (<span style=\"color: #00d7ff; text-decoration-color: #00d7ff\">None</span>, <span style=\"color: #00af00; text-decoration-color: #00af00\">64</span>)                  │           <span style=\"color: #00af00; text-decoration-color: #00af00\">8,256</span> │\n",
       "├──────────────────────────────────────┼─────────────────────────────┼─────────────────┤\n",
       "│ dense_13 (<span style=\"color: #0087ff; text-decoration-color: #0087ff\">Dense</span>)                     │ (<span style=\"color: #00d7ff; text-decoration-color: #00d7ff\">None</span>, <span style=\"color: #00af00; text-decoration-color: #00af00\">32</span>)                  │           <span style=\"color: #00af00; text-decoration-color: #00af00\">2,080</span> │\n",
       "├──────────────────────────────────────┼─────────────────────────────┼─────────────────┤\n",
       "│ dense_14 (<span style=\"color: #0087ff; text-decoration-color: #0087ff\">Dense</span>)                     │ (<span style=\"color: #00d7ff; text-decoration-color: #00d7ff\">None</span>, <span style=\"color: #00af00; text-decoration-color: #00af00\">1</span>)                   │              <span style=\"color: #00af00; text-decoration-color: #00af00\">33</span> │\n",
       "└──────────────────────────────────────┴─────────────────────────────┴─────────────────┘\n",
       "</pre>\n"
      ],
      "text/plain": [
       "┏━━━━━━━━━━━━━━━━━━━━━━━━━━━━━━━━━━━━━━┳━━━━━━━━━━━━━━━━━━━━━━━━━━━━━┳━━━━━━━━━━━━━━━━━┓\n",
       "┃\u001b[1m \u001b[0m\u001b[1mLayer (type)                        \u001b[0m\u001b[1m \u001b[0m┃\u001b[1m \u001b[0m\u001b[1mOutput Shape               \u001b[0m\u001b[1m \u001b[0m┃\u001b[1m \u001b[0m\u001b[1m        Param #\u001b[0m\u001b[1m \u001b[0m┃\n",
       "┡━━━━━━━━━━━━━━━━━━━━━━━━━━━━━━━━━━━━━━╇━━━━━━━━━━━━━━━━━━━━━━━━━━━━━╇━━━━━━━━━━━━━━━━━┩\n",
       "│ dense_11 (\u001b[38;5;33mDense\u001b[0m)                     │ (\u001b[38;5;45mNone\u001b[0m, \u001b[38;5;34m128\u001b[0m)                 │           \u001b[38;5;34m9,216\u001b[0m │\n",
       "├──────────────────────────────────────┼─────────────────────────────┼─────────────────┤\n",
       "│ dense_12 (\u001b[38;5;33mDense\u001b[0m)                     │ (\u001b[38;5;45mNone\u001b[0m, \u001b[38;5;34m64\u001b[0m)                  │           \u001b[38;5;34m8,256\u001b[0m │\n",
       "├──────────────────────────────────────┼─────────────────────────────┼─────────────────┤\n",
       "│ dense_13 (\u001b[38;5;33mDense\u001b[0m)                     │ (\u001b[38;5;45mNone\u001b[0m, \u001b[38;5;34m32\u001b[0m)                  │           \u001b[38;5;34m2,080\u001b[0m │\n",
       "├──────────────────────────────────────┼─────────────────────────────┼─────────────────┤\n",
       "│ dense_14 (\u001b[38;5;33mDense\u001b[0m)                     │ (\u001b[38;5;45mNone\u001b[0m, \u001b[38;5;34m1\u001b[0m)                   │              \u001b[38;5;34m33\u001b[0m │\n",
       "└──────────────────────────────────────┴─────────────────────────────┴─────────────────┘\n"
      ]
     },
     "metadata": {},
     "output_type": "display_data"
    },
    {
     "data": {
      "text/html": [
       "<pre style=\"white-space:pre;overflow-x:auto;line-height:normal;font-family:Menlo,'DejaVu Sans Mono',consolas,'Courier New',monospace\"><span style=\"font-weight: bold\"> Total params: </span><span style=\"color: #00af00; text-decoration-color: #00af00\">58,757</span> (229.52 KB)\n",
       "</pre>\n"
      ],
      "text/plain": [
       "\u001b[1m Total params: \u001b[0m\u001b[38;5;34m58,757\u001b[0m (229.52 KB)\n"
      ]
     },
     "metadata": {},
     "output_type": "display_data"
    },
    {
     "data": {
      "text/html": [
       "<pre style=\"white-space:pre;overflow-x:auto;line-height:normal;font-family:Menlo,'DejaVu Sans Mono',consolas,'Courier New',monospace\"><span style=\"font-weight: bold\"> Trainable params: </span><span style=\"color: #00af00; text-decoration-color: #00af00\">19,585</span> (76.50 KB)\n",
       "</pre>\n"
      ],
      "text/plain": [
       "\u001b[1m Trainable params: \u001b[0m\u001b[38;5;34m19,585\u001b[0m (76.50 KB)\n"
      ]
     },
     "metadata": {},
     "output_type": "display_data"
    },
    {
     "data": {
      "text/html": [
       "<pre style=\"white-space:pre;overflow-x:auto;line-height:normal;font-family:Menlo,'DejaVu Sans Mono',consolas,'Courier New',monospace\"><span style=\"font-weight: bold\"> Non-trainable params: </span><span style=\"color: #00af00; text-decoration-color: #00af00\">0</span> (0.00 B)\n",
       "</pre>\n"
      ],
      "text/plain": [
       "\u001b[1m Non-trainable params: \u001b[0m\u001b[38;5;34m0\u001b[0m (0.00 B)\n"
      ]
     },
     "metadata": {},
     "output_type": "display_data"
    },
    {
     "data": {
      "text/html": [
       "<pre style=\"white-space:pre;overflow-x:auto;line-height:normal;font-family:Menlo,'DejaVu Sans Mono',consolas,'Courier New',monospace\"><span style=\"font-weight: bold\"> Optimizer params: </span><span style=\"color: #00af00; text-decoration-color: #00af00\">39,172</span> (153.02 KB)\n",
       "</pre>\n"
      ],
      "text/plain": [
       "\u001b[1m Optimizer params: \u001b[0m\u001b[38;5;34m39,172\u001b[0m (153.02 KB)\n"
      ]
     },
     "metadata": {},
     "output_type": "display_data"
    }
   ],
   "source": [
    "classifier = Sequential()\n",
    "classifier.add(Dense(units=128, activation='relu', input_dim=input_dim,kernel_regularizer=l2(0.001))) \n",
    "classifier.add(Dense(units=64, activation='relu',kernel_regularizer=l2(0.001)))\n",
    "classifier.add(Dense(units=32, activation='relu',kernel_regularizer=l2(0.001)))\n",
    "classifier.add(Dense(units=1, activation='sigmoid',kernel_regularizer=l2(0.001)))\n",
    "classifier.compile(optimizer=\"adam\", loss='binary_crossentropy', metrics=['accuracy', f1_m, precision_m, recall_m])\n",
    "\n",
    "history = classifier.fit(X_train_sc, y_train_resampled, epochs=50, batch_size=512, validation_split=0.15, verbose=1,\n",
    "                         callbacks=[keras.callbacks.EarlyStopping(monitor='val_loss', min_delta=0, patience=10, verbose=0, mode='auto')])\n",
    "classifier.summary()"
   ]
  },
  {
   "cell_type": "code",
   "execution_count": 40,
   "metadata": {},
   "outputs": [
    {
     "name": "stdout",
     "output_type": "stream",
     "text": [
      "\u001b[1m66209/66209\u001b[0m \u001b[32m━━━━━━━━━━━━━━━━━━━━\u001b[0m\u001b[37m\u001b[0m \u001b[1m55s\u001b[0m 837us/step - accuracy: 0.8931 - f1_m: 0.3436 - loss: 0.3600 - precision_m: 0.4113 - recall_m: 0.3447\n",
      "loss:  0.3604486286640167 and Accuracy:  0.8929194211959839\n"
     ]
    }
   ],
   "source": [
    "eval_model = classifier.evaluate(X_test_sc, y_test)\n",
    "print('loss: ', eval_model[0], 'and Accuracy: ', eval_model[1])\n"
   ]
  },
  {
   "cell_type": "code",
   "execution_count": 41,
   "metadata": {},
   "outputs": [
    {
     "name": "stdout",
     "output_type": "stream",
     "text": [
      "dict_keys(['accuracy', 'f1_m', 'loss', 'precision_m', 'recall_m', 'val_accuracy', 'val_f1_m', 'val_loss', 'val_precision_m', 'val_recall_m'])\n"
     ]
    }
   ],
   "source": [
    "print(history.history.keys())\n"
   ]
  },
  {
   "cell_type": "code",
   "execution_count": 42,
   "metadata": {},
   "outputs": [
    {
     "data": {
      "text/plain": [
       "Text(0.5, 1.0, 'Loss')"
      ]
     },
     "execution_count": 42,
     "metadata": {},
     "output_type": "execute_result"
    },
    {
     "data": {
      "image/png": "[encoded data removed]",
      "text/plain": [
       "<Figure size 1000x400 with 2 Axes>"
      ]
     },
     "metadata": {},
     "output_type": "display_data"
    }
   ],
   "source": [
    "fig, ax = plt.subplots(nrows = 1, ncols = 2, figsize = (10, 4))\n",
    "\n",
    "# Accuracy\n",
    "ax[0].plot(history.history['accuracy'])\n",
    "ax[0].plot(history.history['val_accuracy'])\n",
    "ax[0].set_ylabel('Accuracy')\n",
    "ax[0].set_xlabel('# Epoch')\n",
    "ax[0].legend(['train', 'test'], loc='upper left')\n",
    "ax[0].set_title('Accuracy')\n",
    "\n",
    "# Loss\n",
    "ax[1].plot(history.history['loss'])\n",
    "ax[1].plot(history.history['val_loss'])\n",
    "ax[1].set_ylabel('Loss')\n",
    "ax[1].set_xlabel('# Epoch')\n",
    "ax[1].legend(['train', 'test'], loc='upper left')\n",
    "ax[1].set_title('Loss')"
   ]
  },
  {
   "cell_type": "code",
   "execution_count": 43,
   "metadata": {},
   "outputs": [
    {
     "name": "stdout",
     "output_type": "stream",
     "text": [
      "\u001b[1m66209/66209\u001b[0m \u001b[32m━━━━━━━━━━━━━━━━━━━━\u001b[0m\u001b[37m\u001b[0m \u001b[1m53s\u001b[0m 796us/step\n",
      "\n",
      " Classification report : \n",
      "               precision    recall  f1-score   support\n",
      "\n",
      "         0.0       0.93      0.95      0.94   1911460\n",
      "         1.0       0.44      0.36      0.40    207206\n",
      "\n",
      "    accuracy                           0.89   2118666\n",
      "   macro avg       0.69      0.65      0.67   2118666\n",
      "weighted avg       0.88      0.89      0.89   2118666\n",
      "\n",
      "Accuracy Score :  0.8929194124982418\n",
      "F1 Score:  0.8878416157696853\n",
      "Area under curve :  0.8085070688854281 \n",
      "\n"
     ]
    },
    {
     "data": {
      "image/png": "[encoded data removed]",
      "text/plain": [
       "<Figure size 1200x1200 with 3 Axes>"
      ]
     },
     "metadata": {},
     "output_type": "display_data"
    }
   ],
   "source": [
    "probabilities = classifier.predict(X_test_sc)\n",
    "predictions = (probabilities > 0.5).astype(int)  # Thresholding at 0.5\n",
    "\n",
    "print(\"\\n Classification report : \\n\", classification_report(y_test, predictions))\n",
    "print(\"Accuracy Score : \", accuracy_score(y_test, predictions))\n",
    "\n",
    "# Confusion matrix\n",
    "conf_matrix = confusion_matrix(y_test, predictions)\n",
    "plt.figure(figsize=(12, 12))\n",
    "plt.subplot(221)\n",
    "sns.heatmap(conf_matrix, fmt=\"d\", annot=True, cmap='Blues')\n",
    "b, t = plt.ylim()\n",
    "plt.ylim(b + 0.5, t - 0.5)\n",
    "plt.title('Confusion Matrix')\n",
    "plt.ylabel('True Values')\n",
    "plt.xlabel('Predicted Values')\n",
    "\n",
    "# F1-score\n",
    "f1 = f1_score(y_test, predictions, average='weighted')\n",
    "print(\"F1 Score: \", f1)\n",
    "# ROC curve and AUC\n",
    "model_roc_auc = roc_auc_score(y_test, probabilities)\n",
    "print(\"Area under curve : \", model_roc_auc, \"\\n\")\n",
    "fpr, tpr, thresholds = roc_curve(y_test, probabilities)\n",
    "gmeans = np.sqrt(tpr * (1 - fpr))\n",
    "ix = np.argmax(gmeans)\n",
    "threshold = np.round(thresholds[ix], 3)\n",
    "\n",
    "plt.subplot(222)\n",
    "plt.plot(fpr, tpr, color='darkorange', lw=1, label=\"Auc : %.3f\" % model_roc_auc)\n",
    "plt.plot([0, 1], [0, 1], color='navy', lw=2, linestyle='--')\n",
    "plt.scatter(fpr[ix], tpr[ix], marker='o', color='black', label='Best Threshold:' + str(threshold))\n",
    "plt.xlim([0.0, 1.0])\n",
    "plt.ylim([0.0, 1.05])\n",
    "plt.xlabel('False Positive Rate')\n",
    "plt.ylabel('True Positive Rate')\n",
    "plt.title('Receiver operating characteristic')\n",
    "plt.legend(loc=\"lower right\")\n",
    "\n",
    "plt.show()"
   ]
  }
 ],
 "metadata": {
  "kernelspec": {
   "display_name": "Python 3 (ipykernel)",
   "language": "python",
   "name": "python3"
  },
  "language_info": {
   "codemirror_mode": {
    "name": "ipython",
    "version": 3
   },
   "file_extension": ".py",
   "mimetype": "text/x-python",
   "name": "python",
   "nbconvert_exporter": "python",
   "pygments_lexer": "ipython3",
   "version": "3.12.0"
  }
 },
 "nbformat": 4,
 "nbformat_minor": 4
}
